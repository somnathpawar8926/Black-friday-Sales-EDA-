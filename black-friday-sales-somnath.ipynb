{
 "cells": [
  {
   "cell_type": "code",
   "execution_count": 1,
   "id": "eb4512c3",
   "metadata": {
    "_cell_guid": "b1076dfc-b9ad-4769-8c92-a6c4dae69d19",
    "_uuid": "8f2839f25d086af736a60e9eeb907d3b93b6e0e5",
    "execution": {
     "iopub.execute_input": "2024-04-05T04:47:40.104857Z",
     "iopub.status.busy": "2024-04-05T04:47:40.103934Z",
     "iopub.status.idle": "2024-04-05T04:47:41.093918Z",
     "shell.execute_reply": "2024-04-05T04:47:41.092753Z"
    },
    "papermill": {
     "duration": 1.008017,
     "end_time": "2024-04-05T04:47:41.096446",
     "exception": false,
     "start_time": "2024-04-05T04:47:40.088429",
     "status": "completed"
    },
    "tags": []
   },
   "outputs": [
    {
     "name": "stdout",
     "output_type": "stream",
     "text": [
      "/kaggle/input/black-friday-sales-eda/train.csv\n"
     ]
    }
   ],
   "source": [
    "# This Python 3 environment comes with many helpful analytics libraries installed\n",
    "# It is defined by the kaggle/python Docker image: https://github.com/kaggle/docker-python\n",
    "# For example, here's several helpful packages to load\n",
    "\n",
    "import numpy as np # linear algebra\n",
    "import pandas as pd # data processing, CSV file I/O (e.g. pd.read_csv)\n",
    "\n",
    "# Input data files are available in the read-only \"../input/\" directory\n",
    "# For example, running this (by clicking run or pressing Shift+Enter) will list all files under the input directory\n",
    "\n",
    "import os\n",
    "for dirname, _, filenames in os.walk('/kaggle/input'):\n",
    "    for filename in filenames:\n",
    "        print(os.path.join(dirname, filename))\n",
    "\n",
    "# You can write up to 20GB to the current directory (/kaggle/working/) that gets preserved as output when you create a version using \"Save & Run All\" \n",
    "# You can also write temporary files to /kaggle/temp/, but they won't be saved outside of the current session"
   ]
  },
  {
   "cell_type": "code",
   "execution_count": 2,
   "id": "aa17b7d1",
   "metadata": {
    "execution": {
     "iopub.execute_input": "2024-04-05T04:47:41.122465Z",
     "iopub.status.busy": "2024-04-05T04:47:41.121565Z",
     "iopub.status.idle": "2024-04-05T04:47:41.126442Z",
     "shell.execute_reply": "2024-04-05T04:47:41.125577Z"
    },
    "papermill": {
     "duration": 0.019983,
     "end_time": "2024-04-05T04:47:41.128511",
     "exception": false,
     "start_time": "2024-04-05T04:47:41.108528",
     "status": "completed"
    },
    "tags": []
   },
   "outputs": [],
   "source": [
    "import pandas as pd\n",
    "import numpy as np"
   ]
  },
  {
   "cell_type": "markdown",
   "id": "0b56781d",
   "metadata": {
    "papermill": {
     "duration": 0.011088,
     "end_time": "2024-04-05T04:47:41.151026",
     "exception": false,
     "start_time": "2024-04-05T04:47:41.139938",
     "status": "completed"
    },
    "tags": []
   },
   "source": [
    "# Read CSV"
   ]
  },
  {
   "cell_type": "code",
   "execution_count": 3,
   "id": "3603122e",
   "metadata": {
    "execution": {
     "iopub.execute_input": "2024-04-05T04:47:41.177259Z",
     "iopub.status.busy": "2024-04-05T04:47:41.176605Z",
     "iopub.status.idle": "2024-04-05T04:47:42.251195Z",
     "shell.execute_reply": "2024-04-05T04:47:42.249978Z"
    },
    "papermill": {
     "duration": 1.089778,
     "end_time": "2024-04-05T04:47:42.253583",
     "exception": false,
     "start_time": "2024-04-05T04:47:41.163805",
     "status": "completed"
    },
    "tags": []
   },
   "outputs": [
    {
     "data": {
      "text/html": [
       "<div>\n",
       "<style scoped>\n",
       "    .dataframe tbody tr th:only-of-type {\n",
       "        vertical-align: middle;\n",
       "    }\n",
       "\n",
       "    .dataframe tbody tr th {\n",
       "        vertical-align: top;\n",
       "    }\n",
       "\n",
       "    .dataframe thead th {\n",
       "        text-align: right;\n",
       "    }\n",
       "</style>\n",
       "<table border=\"1\" class=\"dataframe\">\n",
       "  <thead>\n",
       "    <tr style=\"text-align: right;\">\n",
       "      <th></th>\n",
       "      <th>User_ID</th>\n",
       "      <th>Product_ID</th>\n",
       "      <th>Gender</th>\n",
       "      <th>Age</th>\n",
       "      <th>Occupation</th>\n",
       "      <th>City_Category</th>\n",
       "      <th>Stay_In_Current_City_Years</th>\n",
       "      <th>Marital_Status</th>\n",
       "      <th>Product_Category_1</th>\n",
       "      <th>Product_Category_2</th>\n",
       "      <th>Product_Category_3</th>\n",
       "      <th>Purchase</th>\n",
       "    </tr>\n",
       "  </thead>\n",
       "  <tbody>\n",
       "    <tr>\n",
       "      <th>0</th>\n",
       "      <td>1000001</td>\n",
       "      <td>P00069042</td>\n",
       "      <td>F</td>\n",
       "      <td>0-17</td>\n",
       "      <td>10</td>\n",
       "      <td>A</td>\n",
       "      <td>2</td>\n",
       "      <td>0</td>\n",
       "      <td>3</td>\n",
       "      <td>NaN</td>\n",
       "      <td>NaN</td>\n",
       "      <td>8370</td>\n",
       "    </tr>\n",
       "    <tr>\n",
       "      <th>1</th>\n",
       "      <td>1000001</td>\n",
       "      <td>P00248942</td>\n",
       "      <td>F</td>\n",
       "      <td>0-17</td>\n",
       "      <td>10</td>\n",
       "      <td>A</td>\n",
       "      <td>2</td>\n",
       "      <td>0</td>\n",
       "      <td>1</td>\n",
       "      <td>6.0</td>\n",
       "      <td>14.0</td>\n",
       "      <td>15200</td>\n",
       "    </tr>\n",
       "    <tr>\n",
       "      <th>2</th>\n",
       "      <td>1000001</td>\n",
       "      <td>P00087842</td>\n",
       "      <td>F</td>\n",
       "      <td>0-17</td>\n",
       "      <td>10</td>\n",
       "      <td>A</td>\n",
       "      <td>2</td>\n",
       "      <td>0</td>\n",
       "      <td>12</td>\n",
       "      <td>NaN</td>\n",
       "      <td>NaN</td>\n",
       "      <td>1422</td>\n",
       "    </tr>\n",
       "    <tr>\n",
       "      <th>3</th>\n",
       "      <td>1000001</td>\n",
       "      <td>P00085442</td>\n",
       "      <td>F</td>\n",
       "      <td>0-17</td>\n",
       "      <td>10</td>\n",
       "      <td>A</td>\n",
       "      <td>2</td>\n",
       "      <td>0</td>\n",
       "      <td>12</td>\n",
       "      <td>14.0</td>\n",
       "      <td>NaN</td>\n",
       "      <td>1057</td>\n",
       "    </tr>\n",
       "    <tr>\n",
       "      <th>4</th>\n",
       "      <td>1000002</td>\n",
       "      <td>P00285442</td>\n",
       "      <td>M</td>\n",
       "      <td>55+</td>\n",
       "      <td>16</td>\n",
       "      <td>C</td>\n",
       "      <td>4+</td>\n",
       "      <td>0</td>\n",
       "      <td>8</td>\n",
       "      <td>NaN</td>\n",
       "      <td>NaN</td>\n",
       "      <td>7969</td>\n",
       "    </tr>\n",
       "  </tbody>\n",
       "</table>\n",
       "</div>"
      ],
      "text/plain": [
       "   User_ID Product_ID Gender   Age  Occupation City_Category  \\\n",
       "0  1000001  P00069042      F  0-17          10             A   \n",
       "1  1000001  P00248942      F  0-17          10             A   \n",
       "2  1000001  P00087842      F  0-17          10             A   \n",
       "3  1000001  P00085442      F  0-17          10             A   \n",
       "4  1000002  P00285442      M   55+          16             C   \n",
       "\n",
       "  Stay_In_Current_City_Years  Marital_Status  Product_Category_1  \\\n",
       "0                          2               0                   3   \n",
       "1                          2               0                   1   \n",
       "2                          2               0                  12   \n",
       "3                          2               0                  12   \n",
       "4                         4+               0                   8   \n",
       "\n",
       "   Product_Category_2  Product_Category_3  Purchase  \n",
       "0                 NaN                 NaN      8370  \n",
       "1                 6.0                14.0     15200  \n",
       "2                 NaN                 NaN      1422  \n",
       "3                14.0                 NaN      1057  \n",
       "4                 NaN                 NaN      7969  "
      ]
     },
     "execution_count": 3,
     "metadata": {},
     "output_type": "execute_result"
    }
   ],
   "source": [
    "df=pd.read_csv('/kaggle/input/black-friday-sales-eda/train.csv')\n",
    "df.head()"
   ]
  },
  {
   "cell_type": "code",
   "execution_count": 4,
   "id": "2391b04b",
   "metadata": {
    "execution": {
     "iopub.execute_input": "2024-04-05T04:47:42.282089Z",
     "iopub.status.busy": "2024-04-05T04:47:42.281638Z",
     "iopub.status.idle": "2024-04-05T04:47:42.288420Z",
     "shell.execute_reply": "2024-04-05T04:47:42.287305Z"
    },
    "papermill": {
     "duration": 0.024032,
     "end_time": "2024-04-05T04:47:42.290760",
     "exception": false,
     "start_time": "2024-04-05T04:47:42.266728",
     "status": "completed"
    },
    "tags": []
   },
   "outputs": [
    {
     "data": {
      "text/plain": [
       "(550068, 12)"
      ]
     },
     "execution_count": 4,
     "metadata": {},
     "output_type": "execute_result"
    }
   ],
   "source": [
    "# Cheaking Data shape\n",
    "df.shape"
   ]
  },
  {
   "cell_type": "code",
   "execution_count": 5,
   "id": "baf488ed",
   "metadata": {
    "execution": {
     "iopub.execute_input": "2024-04-05T04:47:42.317728Z",
     "iopub.status.busy": "2024-04-05T04:47:42.317343Z",
     "iopub.status.idle": "2024-04-05T04:47:42.462158Z",
     "shell.execute_reply": "2024-04-05T04:47:42.461073Z"
    },
    "papermill": {
     "duration": 0.160955,
     "end_time": "2024-04-05T04:47:42.464486",
     "exception": false,
     "start_time": "2024-04-05T04:47:42.303531",
     "status": "completed"
    },
    "tags": []
   },
   "outputs": [
    {
     "data": {
      "text/plain": [
       "User_ID                            0\n",
       "Product_ID                         0\n",
       "Gender                             0\n",
       "Age                                0\n",
       "Occupation                         0\n",
       "City_Category                      0\n",
       "Stay_In_Current_City_Years         0\n",
       "Marital_Status                     0\n",
       "Product_Category_1                 0\n",
       "Product_Category_2            173638\n",
       "Product_Category_3            383247\n",
       "Purchase                           0\n",
       "dtype: int64"
      ]
     },
     "execution_count": 5,
     "metadata": {},
     "output_type": "execute_result"
    }
   ],
   "source": [
    "#Cheaking Null Values\n",
    "df.isnull().sum()"
   ]
  },
  {
   "cell_type": "code",
   "execution_count": 6,
   "id": "06515cd6",
   "metadata": {
    "execution": {
     "iopub.execute_input": "2024-04-05T04:47:42.490811Z",
     "iopub.status.busy": "2024-04-05T04:47:42.490417Z",
     "iopub.status.idle": "2024-04-05T04:47:42.644386Z",
     "shell.execute_reply": "2024-04-05T04:47:42.643510Z"
    },
    "papermill": {
     "duration": 0.169782,
     "end_time": "2024-04-05T04:47:42.646681",
     "exception": false,
     "start_time": "2024-04-05T04:47:42.476899",
     "status": "completed"
    },
    "tags": []
   },
   "outputs": [
    {
     "name": "stdout",
     "output_type": "stream",
     "text": [
      "<class 'pandas.core.frame.DataFrame'>\n",
      "RangeIndex: 550068 entries, 0 to 550067\n",
      "Data columns (total 12 columns):\n",
      " #   Column                      Non-Null Count   Dtype  \n",
      "---  ------                      --------------   -----  \n",
      " 0   User_ID                     550068 non-null  int64  \n",
      " 1   Product_ID                  550068 non-null  object \n",
      " 2   Gender                      550068 non-null  object \n",
      " 3   Age                         550068 non-null  object \n",
      " 4   Occupation                  550068 non-null  int64  \n",
      " 5   City_Category               550068 non-null  object \n",
      " 6   Stay_In_Current_City_Years  550068 non-null  object \n",
      " 7   Marital_Status              550068 non-null  int64  \n",
      " 8   Product_Category_1          550068 non-null  int64  \n",
      " 9   Product_Category_2          376430 non-null  float64\n",
      " 10  Product_Category_3          166821 non-null  float64\n",
      " 11  Purchase                    550068 non-null  int64  \n",
      "dtypes: float64(2), int64(5), object(5)\n",
      "memory usage: 50.4+ MB\n"
     ]
    }
   ],
   "source": [
    "df.info()"
   ]
  },
  {
   "cell_type": "code",
   "execution_count": 7,
   "id": "e27943ca",
   "metadata": {
    "execution": {
     "iopub.execute_input": "2024-04-05T04:47:42.674340Z",
     "iopub.status.busy": "2024-04-05T04:47:42.672922Z",
     "iopub.status.idle": "2024-04-05T04:47:42.681513Z",
     "shell.execute_reply": "2024-04-05T04:47:42.680687Z"
    },
    "papermill": {
     "duration": 0.024413,
     "end_time": "2024-04-05T04:47:42.683682",
     "exception": false,
     "start_time": "2024-04-05T04:47:42.659269",
     "status": "completed"
    },
    "tags": []
   },
   "outputs": [
    {
     "data": {
      "text/plain": [
       "0"
      ]
     },
     "execution_count": 7,
     "metadata": {},
     "output_type": "execute_result"
    }
   ],
   "source": [
    "#Cheaking the null values\n",
    "df['Product_Category_1'].isnull().sum()"
   ]
  },
  {
   "cell_type": "code",
   "execution_count": 8,
   "id": "59b78c1a",
   "metadata": {
    "execution": {
     "iopub.execute_input": "2024-04-05T04:47:42.709865Z",
     "iopub.status.busy": "2024-04-05T04:47:42.709484Z",
     "iopub.status.idle": "2024-04-05T04:47:42.716749Z",
     "shell.execute_reply": "2024-04-05T04:47:42.716053Z"
    },
    "papermill": {
     "duration": 0.022797,
     "end_time": "2024-04-05T04:47:42.718918",
     "exception": false,
     "start_time": "2024-04-05T04:47:42.696121",
     "status": "completed"
    },
    "tags": []
   },
   "outputs": [
    {
     "data": {
      "text/plain": [
       "173638"
      ]
     },
     "execution_count": 8,
     "metadata": {},
     "output_type": "execute_result"
    }
   ],
   "source": [
    "#Cheaking null values\n",
    "df['Product_Category_2'].isnull().sum()"
   ]
  },
  {
   "cell_type": "markdown",
   "id": "ce912a45",
   "metadata": {
    "papermill": {
     "duration": 0.011962,
     "end_time": "2024-04-05T04:47:42.743369",
     "exception": false,
     "start_time": "2024-04-05T04:47:42.731407",
     "status": "completed"
    },
    "tags": []
   },
   "source": [
    "**Age**"
   ]
  },
  {
   "cell_type": "code",
   "execution_count": 9,
   "id": "5594ca91",
   "metadata": {
    "execution": {
     "iopub.execute_input": "2024-04-05T04:47:42.770901Z",
     "iopub.status.busy": "2024-04-05T04:47:42.769740Z",
     "iopub.status.idle": "2024-04-05T04:47:42.808162Z",
     "shell.execute_reply": "2024-04-05T04:47:42.806886Z"
    },
    "papermill": {
     "duration": 0.054921,
     "end_time": "2024-04-05T04:47:42.810473",
     "exception": false,
     "start_time": "2024-04-05T04:47:42.755552",
     "status": "completed"
    },
    "tags": []
   },
   "outputs": [
    {
     "data": {
      "text/plain": [
       "array(['0-17', '55+', '26-35', '46-50', '51-55', '36-45', '18-25'],\n",
       "      dtype=object)"
      ]
     },
     "execution_count": 9,
     "metadata": {},
     "output_type": "execute_result"
    }
   ],
   "source": [
    "#Cheaking Uniques Values\n",
    "df['Age'].unique()"
   ]
  },
  {
   "cell_type": "code",
   "execution_count": 10,
   "id": "ccb27acb",
   "metadata": {
    "execution": {
     "iopub.execute_input": "2024-04-05T04:47:42.837542Z",
     "iopub.status.busy": "2024-04-05T04:47:42.837078Z",
     "iopub.status.idle": "2024-04-05T04:47:43.002707Z",
     "shell.execute_reply": "2024-04-05T04:47:43.001388Z"
    },
    "papermill": {
     "duration": 0.182227,
     "end_time": "2024-04-05T04:47:43.005380",
     "exception": false,
     "start_time": "2024-04-05T04:47:42.823153",
     "status": "completed"
    },
    "tags": []
   },
   "outputs": [],
   "source": [
    "df['Age']=df['Age'].str.replace('+',' ').astype(str)"
   ]
  },
  {
   "cell_type": "markdown",
   "id": "ba69271f",
   "metadata": {
    "papermill": {
     "duration": 0.011963,
     "end_time": "2024-04-05T04:47:43.029782",
     "exception": false,
     "start_time": "2024-04-05T04:47:43.017819",
     "status": "completed"
    },
    "tags": []
   },
   "source": [
    "**Stay_In_Current_City_Years**"
   ]
  },
  {
   "cell_type": "code",
   "execution_count": 11,
   "id": "aaa1082c",
   "metadata": {
    "execution": {
     "iopub.execute_input": "2024-04-05T04:47:43.057632Z",
     "iopub.status.busy": "2024-04-05T04:47:43.057214Z",
     "iopub.status.idle": "2024-04-05T04:47:43.094047Z",
     "shell.execute_reply": "2024-04-05T04:47:43.092894Z"
    },
    "papermill": {
     "duration": 0.053788,
     "end_time": "2024-04-05T04:47:43.096423",
     "exception": false,
     "start_time": "2024-04-05T04:47:43.042635",
     "status": "completed"
    },
    "tags": []
   },
   "outputs": [
    {
     "data": {
      "text/plain": [
       "array(['2', '4+', '3', '1', '0'], dtype=object)"
      ]
     },
     "execution_count": 11,
     "metadata": {},
     "output_type": "execute_result"
    }
   ],
   "source": [
    "df['Stay_In_Current_City_Years'].unique()"
   ]
  },
  {
   "cell_type": "code",
   "execution_count": 12,
   "id": "d4f71875",
   "metadata": {
    "execution": {
     "iopub.execute_input": "2024-04-05T04:47:43.123149Z",
     "iopub.status.busy": "2024-04-05T04:47:43.122749Z",
     "iopub.status.idle": "2024-04-05T04:47:43.186173Z",
     "shell.execute_reply": "2024-04-05T04:47:43.184895Z"
    },
    "papermill": {
     "duration": 0.079978,
     "end_time": "2024-04-05T04:47:43.188892",
     "exception": false,
     "start_time": "2024-04-05T04:47:43.108914",
     "status": "completed"
    },
    "tags": []
   },
   "outputs": [],
   "source": [
    "df['Stay_In_Current_City_Years']=df['Stay_In_Current_City_Years'].replace('+','').astype(str)"
   ]
  },
  {
   "cell_type": "code",
   "execution_count": 13,
   "id": "df5f474b",
   "metadata": {
    "execution": {
     "iopub.execute_input": "2024-04-05T04:47:43.215695Z",
     "iopub.status.busy": "2024-04-05T04:47:43.215320Z",
     "iopub.status.idle": "2024-04-05T04:47:43.233121Z",
     "shell.execute_reply": "2024-04-05T04:47:43.231898Z"
    },
    "papermill": {
     "duration": 0.033884,
     "end_time": "2024-04-05T04:47:43.235614",
     "exception": false,
     "start_time": "2024-04-05T04:47:43.201730",
     "status": "completed"
    },
    "tags": []
   },
   "outputs": [
    {
     "data": {
      "text/html": [
       "<div>\n",
       "<style scoped>\n",
       "    .dataframe tbody tr th:only-of-type {\n",
       "        vertical-align: middle;\n",
       "    }\n",
       "\n",
       "    .dataframe tbody tr th {\n",
       "        vertical-align: top;\n",
       "    }\n",
       "\n",
       "    .dataframe thead th {\n",
       "        text-align: right;\n",
       "    }\n",
       "</style>\n",
       "<table border=\"1\" class=\"dataframe\">\n",
       "  <thead>\n",
       "    <tr style=\"text-align: right;\">\n",
       "      <th></th>\n",
       "      <th>User_ID</th>\n",
       "      <th>Product_ID</th>\n",
       "      <th>Gender</th>\n",
       "      <th>Age</th>\n",
       "      <th>Occupation</th>\n",
       "      <th>City_Category</th>\n",
       "      <th>City_Year</th>\n",
       "      <th>Marital_Status</th>\n",
       "      <th>Product_1</th>\n",
       "      <th>Product_2</th>\n",
       "      <th>Product_3</th>\n",
       "      <th>Purchase</th>\n",
       "    </tr>\n",
       "  </thead>\n",
       "  <tbody>\n",
       "    <tr>\n",
       "      <th>0</th>\n",
       "      <td>1000001</td>\n",
       "      <td>P00069042</td>\n",
       "      <td>F</td>\n",
       "      <td>0-17</td>\n",
       "      <td>10</td>\n",
       "      <td>A</td>\n",
       "      <td>2</td>\n",
       "      <td>0</td>\n",
       "      <td>3</td>\n",
       "      <td>NaN</td>\n",
       "      <td>NaN</td>\n",
       "      <td>8370</td>\n",
       "    </tr>\n",
       "    <tr>\n",
       "      <th>1</th>\n",
       "      <td>1000001</td>\n",
       "      <td>P00248942</td>\n",
       "      <td>F</td>\n",
       "      <td>0-17</td>\n",
       "      <td>10</td>\n",
       "      <td>A</td>\n",
       "      <td>2</td>\n",
       "      <td>0</td>\n",
       "      <td>1</td>\n",
       "      <td>6.0</td>\n",
       "      <td>14.0</td>\n",
       "      <td>15200</td>\n",
       "    </tr>\n",
       "    <tr>\n",
       "      <th>2</th>\n",
       "      <td>1000001</td>\n",
       "      <td>P00087842</td>\n",
       "      <td>F</td>\n",
       "      <td>0-17</td>\n",
       "      <td>10</td>\n",
       "      <td>A</td>\n",
       "      <td>2</td>\n",
       "      <td>0</td>\n",
       "      <td>12</td>\n",
       "      <td>NaN</td>\n",
       "      <td>NaN</td>\n",
       "      <td>1422</td>\n",
       "    </tr>\n",
       "    <tr>\n",
       "      <th>3</th>\n",
       "      <td>1000001</td>\n",
       "      <td>P00085442</td>\n",
       "      <td>F</td>\n",
       "      <td>0-17</td>\n",
       "      <td>10</td>\n",
       "      <td>A</td>\n",
       "      <td>2</td>\n",
       "      <td>0</td>\n",
       "      <td>12</td>\n",
       "      <td>14.0</td>\n",
       "      <td>NaN</td>\n",
       "      <td>1057</td>\n",
       "    </tr>\n",
       "    <tr>\n",
       "      <th>4</th>\n",
       "      <td>1000002</td>\n",
       "      <td>P00285442</td>\n",
       "      <td>M</td>\n",
       "      <td>55</td>\n",
       "      <td>16</td>\n",
       "      <td>C</td>\n",
       "      <td>4+</td>\n",
       "      <td>0</td>\n",
       "      <td>8</td>\n",
       "      <td>NaN</td>\n",
       "      <td>NaN</td>\n",
       "      <td>7969</td>\n",
       "    </tr>\n",
       "  </tbody>\n",
       "</table>\n",
       "</div>"
      ],
      "text/plain": [
       "   User_ID Product_ID Gender   Age  Occupation City_Category City_Year  \\\n",
       "0  1000001  P00069042      F  0-17          10             A         2   \n",
       "1  1000001  P00248942      F  0-17          10             A         2   \n",
       "2  1000001  P00087842      F  0-17          10             A         2   \n",
       "3  1000001  P00085442      F  0-17          10             A         2   \n",
       "4  1000002  P00285442      M   55           16             C        4+   \n",
       "\n",
       "   Marital_Status  Product_1  Product_2  Product_3  Purchase  \n",
       "0               0          3        NaN        NaN      8370  \n",
       "1               0          1        6.0       14.0     15200  \n",
       "2               0         12        NaN        NaN      1422  \n",
       "3               0         12       14.0        NaN      1057  \n",
       "4               0          8        NaN        NaN      7969  "
      ]
     },
     "execution_count": 13,
     "metadata": {},
     "output_type": "execute_result"
    }
   ],
   "source": [
    "#Rename columns\n",
    "df.rename(columns={'Stay_In_Current_City_Years':'City_Year','Product_Category_1':'Product_1','Product_Category_2':'Product_2','Product_Category_3':'Product_3'},inplace=True)\n",
    "df.head()"
   ]
  },
  {
   "cell_type": "code",
   "execution_count": 14,
   "id": "6458559b",
   "metadata": {
    "execution": {
     "iopub.execute_input": "2024-04-05T04:47:43.263331Z",
     "iopub.status.busy": "2024-04-05T04:47:43.262942Z",
     "iopub.status.idle": "2024-04-05T04:47:43.367523Z",
     "shell.execute_reply": "2024-04-05T04:47:43.366193Z"
    },
    "papermill": {
     "duration": 0.121618,
     "end_time": "2024-04-05T04:47:43.370071",
     "exception": false,
     "start_time": "2024-04-05T04:47:43.248453",
     "status": "completed"
    },
    "tags": []
   },
   "outputs": [
    {
     "data": {
      "text/plain": [
       "10.047898672861924"
      ]
     },
     "execution_count": 14,
     "metadata": {},
     "output_type": "execute_result"
    }
   ],
   "source": [
    "p1=df.groupby(['Gender','Age','Occupation'])['Product_2'].agg(['mean'])\n",
    "p1['mean'].mean()"
   ]
  },
  {
   "cell_type": "code",
   "execution_count": 15,
   "id": "7948392b",
   "metadata": {
    "execution": {
     "iopub.execute_input": "2024-04-05T04:47:43.397584Z",
     "iopub.status.busy": "2024-04-05T04:47:43.397112Z",
     "iopub.status.idle": "2024-04-05T04:47:43.408610Z",
     "shell.execute_reply": "2024-04-05T04:47:43.407422Z"
    },
    "papermill": {
     "duration": 0.028149,
     "end_time": "2024-04-05T04:47:43.411137",
     "exception": false,
     "start_time": "2024-04-05T04:47:43.382988",
     "status": "completed"
    },
    "tags": []
   },
   "outputs": [],
   "source": [
    "#fill the missing Values\n",
    "df['Product_2']=df['Product_2'].fillna(10.04).astype('float64')"
   ]
  },
  {
   "cell_type": "code",
   "execution_count": 16,
   "id": "ce68f88e",
   "metadata": {
    "execution": {
     "iopub.execute_input": "2024-04-05T04:47:43.438760Z",
     "iopub.status.busy": "2024-04-05T04:47:43.438362Z",
     "iopub.status.idle": "2024-04-05T04:47:43.534696Z",
     "shell.execute_reply": "2024-04-05T04:47:43.533669Z"
    },
    "papermill": {
     "duration": 0.113111,
     "end_time": "2024-04-05T04:47:43.537133",
     "exception": false,
     "start_time": "2024-04-05T04:47:43.424022",
     "status": "completed"
    },
    "tags": []
   },
   "outputs": [
    {
     "data": {
      "text/plain": [
       "12.712938288199613"
      ]
     },
     "execution_count": 16,
     "metadata": {},
     "output_type": "execute_result"
    }
   ],
   "source": [
    "p2=df.groupby(['Gender','Age','Occupation'])['Product_3'].agg(['mean'])\n",
    "p2['mean'].mean()"
   ]
  },
  {
   "cell_type": "code",
   "execution_count": 17,
   "id": "b82bf8ac",
   "metadata": {
    "execution": {
     "iopub.execute_input": "2024-04-05T04:47:43.565509Z",
     "iopub.status.busy": "2024-04-05T04:47:43.564531Z",
     "iopub.status.idle": "2024-04-05T04:47:43.575832Z",
     "shell.execute_reply": "2024-04-05T04:47:43.574591Z"
    },
    "papermill": {
     "duration": 0.028141,
     "end_time": "2024-04-05T04:47:43.578348",
     "exception": false,
     "start_time": "2024-04-05T04:47:43.550207",
     "status": "completed"
    },
    "tags": []
   },
   "outputs": [],
   "source": [
    "#fill missing values\n",
    "df['Product_3']=df['Product_3'].fillna(12.71).astype('float64')"
   ]
  },
  {
   "cell_type": "code",
   "execution_count": 18,
   "id": "5590d317",
   "metadata": {
    "execution": {
     "iopub.execute_input": "2024-04-05T04:47:43.607431Z",
     "iopub.status.busy": "2024-04-05T04:47:43.606692Z",
     "iopub.status.idle": "2024-04-05T04:47:43.621433Z",
     "shell.execute_reply": "2024-04-05T04:47:43.620402Z"
    },
    "papermill": {
     "duration": 0.031696,
     "end_time": "2024-04-05T04:47:43.623731",
     "exception": false,
     "start_time": "2024-04-05T04:47:43.592035",
     "status": "completed"
    },
    "tags": []
   },
   "outputs": [
    {
     "data": {
      "text/html": [
       "<div>\n",
       "<style scoped>\n",
       "    .dataframe tbody tr th:only-of-type {\n",
       "        vertical-align: middle;\n",
       "    }\n",
       "\n",
       "    .dataframe tbody tr th {\n",
       "        vertical-align: top;\n",
       "    }\n",
       "\n",
       "    .dataframe thead th {\n",
       "        text-align: right;\n",
       "    }\n",
       "</style>\n",
       "<table border=\"1\" class=\"dataframe\">\n",
       "  <thead>\n",
       "    <tr style=\"text-align: right;\">\n",
       "      <th></th>\n",
       "      <th>User_ID</th>\n",
       "      <th>Product_ID</th>\n",
       "      <th>Gender</th>\n",
       "      <th>Age</th>\n",
       "      <th>Occupation</th>\n",
       "      <th>City_Category</th>\n",
       "      <th>City_Year</th>\n",
       "      <th>Marital_Status</th>\n",
       "      <th>Product_1</th>\n",
       "      <th>Product_2</th>\n",
       "      <th>Product_3</th>\n",
       "      <th>Purchase</th>\n",
       "    </tr>\n",
       "  </thead>\n",
       "  <tbody>\n",
       "    <tr>\n",
       "      <th>0</th>\n",
       "      <td>1000001</td>\n",
       "      <td>P00069042</td>\n",
       "      <td>F</td>\n",
       "      <td>0-17</td>\n",
       "      <td>10</td>\n",
       "      <td>A</td>\n",
       "      <td>2</td>\n",
       "      <td>0</td>\n",
       "      <td>3</td>\n",
       "      <td>10.04</td>\n",
       "      <td>12.71</td>\n",
       "      <td>8370</td>\n",
       "    </tr>\n",
       "    <tr>\n",
       "      <th>1</th>\n",
       "      <td>1000001</td>\n",
       "      <td>P00248942</td>\n",
       "      <td>F</td>\n",
       "      <td>0-17</td>\n",
       "      <td>10</td>\n",
       "      <td>A</td>\n",
       "      <td>2</td>\n",
       "      <td>0</td>\n",
       "      <td>1</td>\n",
       "      <td>6.00</td>\n",
       "      <td>14.00</td>\n",
       "      <td>15200</td>\n",
       "    </tr>\n",
       "    <tr>\n",
       "      <th>2</th>\n",
       "      <td>1000001</td>\n",
       "      <td>P00087842</td>\n",
       "      <td>F</td>\n",
       "      <td>0-17</td>\n",
       "      <td>10</td>\n",
       "      <td>A</td>\n",
       "      <td>2</td>\n",
       "      <td>0</td>\n",
       "      <td>12</td>\n",
       "      <td>10.04</td>\n",
       "      <td>12.71</td>\n",
       "      <td>1422</td>\n",
       "    </tr>\n",
       "    <tr>\n",
       "      <th>3</th>\n",
       "      <td>1000001</td>\n",
       "      <td>P00085442</td>\n",
       "      <td>F</td>\n",
       "      <td>0-17</td>\n",
       "      <td>10</td>\n",
       "      <td>A</td>\n",
       "      <td>2</td>\n",
       "      <td>0</td>\n",
       "      <td>12</td>\n",
       "      <td>14.00</td>\n",
       "      <td>12.71</td>\n",
       "      <td>1057</td>\n",
       "    </tr>\n",
       "    <tr>\n",
       "      <th>4</th>\n",
       "      <td>1000002</td>\n",
       "      <td>P00285442</td>\n",
       "      <td>M</td>\n",
       "      <td>55</td>\n",
       "      <td>16</td>\n",
       "      <td>C</td>\n",
       "      <td>4+</td>\n",
       "      <td>0</td>\n",
       "      <td>8</td>\n",
       "      <td>10.04</td>\n",
       "      <td>12.71</td>\n",
       "      <td>7969</td>\n",
       "    </tr>\n",
       "  </tbody>\n",
       "</table>\n",
       "</div>"
      ],
      "text/plain": [
       "   User_ID Product_ID Gender   Age  Occupation City_Category City_Year  \\\n",
       "0  1000001  P00069042      F  0-17          10             A         2   \n",
       "1  1000001  P00248942      F  0-17          10             A         2   \n",
       "2  1000001  P00087842      F  0-17          10             A         2   \n",
       "3  1000001  P00085442      F  0-17          10             A         2   \n",
       "4  1000002  P00285442      M   55           16             C        4+   \n",
       "\n",
       "   Marital_Status  Product_1  Product_2  Product_3  Purchase  \n",
       "0               0          3      10.04      12.71      8370  \n",
       "1               0          1       6.00      14.00     15200  \n",
       "2               0         12      10.04      12.71      1422  \n",
       "3               0         12      14.00      12.71      1057  \n",
       "4               0          8      10.04      12.71      7969  "
      ]
     },
     "execution_count": 18,
     "metadata": {},
     "output_type": "execute_result"
    }
   ],
   "source": [
    "df.head()"
   ]
  },
  {
   "cell_type": "code",
   "execution_count": null,
   "id": "08f8d33d",
   "metadata": {
    "papermill": {
     "duration": 0.071285,
     "end_time": "2024-04-05T04:47:43.708149",
     "exception": false,
     "start_time": "2024-04-05T04:47:43.636864",
     "status": "completed"
    },
    "tags": []
   },
   "outputs": [],
   "source": []
  },
  {
   "cell_type": "markdown",
   "id": "078c4cd6",
   "metadata": {
    "papermill": {
     "duration": 0.012842,
     "end_time": "2024-04-05T04:47:43.734213",
     "exception": false,
     "start_time": "2024-04-05T04:47:43.721371",
     "status": "completed"
    },
    "tags": []
   },
   "source": [
    "# Data Visualisation"
   ]
  },
  {
   "cell_type": "code",
   "execution_count": 19,
   "id": "0e5a48cf",
   "metadata": {
    "execution": {
     "iopub.execute_input": "2024-04-05T04:47:43.762634Z",
     "iopub.status.busy": "2024-04-05T04:47:43.762238Z",
     "iopub.status.idle": "2024-04-05T04:47:45.227264Z",
     "shell.execute_reply": "2024-04-05T04:47:45.226039Z"
    },
    "papermill": {
     "duration": 1.483261,
     "end_time": "2024-04-05T04:47:45.230711",
     "exception": false,
     "start_time": "2024-04-05T04:47:43.747450",
     "status": "completed"
    },
    "tags": []
   },
   "outputs": [],
   "source": [
    "import seaborn as sns\n",
    "import matplotlib.pyplot as plt"
   ]
  },
  {
   "cell_type": "code",
   "execution_count": 20,
   "id": "bb34b989",
   "metadata": {
    "execution": {
     "iopub.execute_input": "2024-04-05T04:47:45.262654Z",
     "iopub.status.busy": "2024-04-05T04:47:45.262183Z",
     "iopub.status.idle": "2024-04-05T04:47:45.277009Z",
     "shell.execute_reply": "2024-04-05T04:47:45.275763Z"
    },
    "papermill": {
     "duration": 0.033817,
     "end_time": "2024-04-05T04:47:45.279600",
     "exception": false,
     "start_time": "2024-04-05T04:47:45.245783",
     "status": "completed"
    },
    "tags": []
   },
   "outputs": [
    {
     "data": {
      "text/html": [
       "<div>\n",
       "<style scoped>\n",
       "    .dataframe tbody tr th:only-of-type {\n",
       "        vertical-align: middle;\n",
       "    }\n",
       "\n",
       "    .dataframe tbody tr th {\n",
       "        vertical-align: top;\n",
       "    }\n",
       "\n",
       "    .dataframe thead th {\n",
       "        text-align: right;\n",
       "    }\n",
       "</style>\n",
       "<table border=\"1\" class=\"dataframe\">\n",
       "  <thead>\n",
       "    <tr style=\"text-align: right;\">\n",
       "      <th></th>\n",
       "      <th>User_ID</th>\n",
       "      <th>Product_ID</th>\n",
       "      <th>Gender</th>\n",
       "      <th>Age</th>\n",
       "      <th>Occupation</th>\n",
       "      <th>City_Category</th>\n",
       "      <th>City_Year</th>\n",
       "      <th>Marital_Status</th>\n",
       "      <th>Product_1</th>\n",
       "      <th>Product_2</th>\n",
       "      <th>Product_3</th>\n",
       "      <th>Purchase</th>\n",
       "    </tr>\n",
       "  </thead>\n",
       "  <tbody>\n",
       "    <tr>\n",
       "      <th>0</th>\n",
       "      <td>1000001</td>\n",
       "      <td>P00069042</td>\n",
       "      <td>F</td>\n",
       "      <td>0-17</td>\n",
       "      <td>10</td>\n",
       "      <td>A</td>\n",
       "      <td>2</td>\n",
       "      <td>0</td>\n",
       "      <td>3</td>\n",
       "      <td>10.04</td>\n",
       "      <td>12.71</td>\n",
       "      <td>8370</td>\n",
       "    </tr>\n",
       "  </tbody>\n",
       "</table>\n",
       "</div>"
      ],
      "text/plain": [
       "   User_ID Product_ID Gender   Age  Occupation City_Category City_Year  \\\n",
       "0  1000001  P00069042      F  0-17          10             A         2   \n",
       "\n",
       "   Marital_Status  Product_1  Product_2  Product_3  Purchase  \n",
       "0               0          3      10.04      12.71      8370  "
      ]
     },
     "execution_count": 20,
     "metadata": {},
     "output_type": "execute_result"
    }
   ],
   "source": [
    "df.head(1)"
   ]
  },
  {
   "cell_type": "markdown",
   "id": "f81c5593",
   "metadata": {
    "papermill": {
     "duration": 0.013687,
     "end_time": "2024-04-05T04:47:45.307283",
     "exception": false,
     "start_time": "2024-04-05T04:47:45.293596",
     "status": "completed"
    },
    "tags": []
   },
   "source": [
    "**Visualize Indivisual Columns**"
   ]
  },
  {
   "cell_type": "code",
   "execution_count": 21,
   "id": "9389afc8",
   "metadata": {
    "execution": {
     "iopub.execute_input": "2024-04-05T04:47:45.337095Z",
     "iopub.status.busy": "2024-04-05T04:47:45.336482Z",
     "iopub.status.idle": "2024-04-05T04:47:46.279054Z",
     "shell.execute_reply": "2024-04-05T04:47:46.277792Z"
    },
    "papermill": {
     "duration": 0.960157,
     "end_time": "2024-04-05T04:47:46.281632",
     "exception": false,
     "start_time": "2024-04-05T04:47:45.321475",
     "status": "completed"
    },
    "tags": []
   },
   "outputs": [
    {
     "data": {
      "text/plain": [
       "<Axes: xlabel='Gender', ylabel='count'>"
      ]
     },
     "execution_count": 21,
     "metadata": {},
     "output_type": "execute_result"
    },
    {
     "data": {
      "image/png": "[encoded data removed]",
      "text/plain": [
       "<Figure size 640x480 with 1 Axes>"
      ]
     },
     "metadata": {},
     "output_type": "display_data"
    }
   ],
   "source": [
    "sns.countplot(x='Gender',data=df,hue='Gender')"
   ]
  },
  {
   "cell_type": "markdown",
   "id": "e6b944ec",
   "metadata": {
    "papermill": {
     "duration": 0.015915,
     "end_time": "2024-04-05T04:47:46.311967",
     "exception": false,
     "start_time": "2024-04-05T04:47:46.296052",
     "status": "completed"
    },
    "tags": []
   },
   "source": [
    "1. So this plot more then 40000 Male Customers and females customers are between 100000 to 150000"
   ]
  },
  {
   "cell_type": "code",
   "execution_count": 22,
   "id": "732228d8",
   "metadata": {
    "execution": {
     "iopub.execute_input": "2024-04-05T04:47:46.349056Z",
     "iopub.status.busy": "2024-04-05T04:47:46.348398Z",
     "iopub.status.idle": "2024-04-05T04:47:47.533396Z",
     "shell.execute_reply": "2024-04-05T04:47:47.532265Z"
    },
    "papermill": {
     "duration": 1.206725,
     "end_time": "2024-04-05T04:47:47.535795",
     "exception": false,
     "start_time": "2024-04-05T04:47:46.329070",
     "status": "completed"
    },
    "tags": []
   },
   "outputs": [
    {
     "data": {
      "text/plain": [
       "<Axes: xlabel='Age', ylabel='count'>"
      ]
     },
     "execution_count": 22,
     "metadata": {},
     "output_type": "execute_result"
    },
    {
     "data": {
      "image/png": "[encoded data removed]",
      "text/plain": [
       "<Figure size 640x480 with 1 Axes>"
      ]
     },
     "metadata": {},
     "output_type": "display_data"
    }
   ],
   "source": [
    "#Age\n",
    "sns.countplot(x='Age',data=df,hue='Age')"
   ]
  },
  {
   "cell_type": "markdown",
   "id": "c876aee0",
   "metadata": {
    "papermill": {
     "duration": 0.014141,
     "end_time": "2024-04-05T04:47:47.564619",
     "exception": false,
     "start_time": "2024-04-05T04:47:47.550478",
     "status": "completed"
    },
    "tags": []
   },
   "source": [
    "* Here in this plot more customers between 26-35 age."
   ]
  },
  {
   "cell_type": "code",
   "execution_count": 23,
   "id": "df00b4f3",
   "metadata": {
    "execution": {
     "iopub.execute_input": "2024-04-05T04:47:47.596716Z",
     "iopub.status.busy": "2024-04-05T04:47:47.595659Z",
     "iopub.status.idle": "2024-04-05T04:47:47.963761Z",
     "shell.execute_reply": "2024-04-05T04:47:47.962467Z"
    },
    "papermill": {
     "duration": 0.387208,
     "end_time": "2024-04-05T04:47:47.966630",
     "exception": false,
     "start_time": "2024-04-05T04:47:47.579422",
     "status": "completed"
    },
    "tags": []
   },
   "outputs": [
    {
     "data": {
      "text/plain": [
       "<Axes: xlabel='Occupation', ylabel='count'>"
      ]
     },
     "execution_count": 23,
     "metadata": {},
     "output_type": "execute_result"
    },
    {
     "data": {
      "image/png": "[encoded data removed]",
      "text/plain": [
       "<Figure size 640x480 with 1 Axes>"
      ]
     },
     "metadata": {},
     "output_type": "display_data"
    }
   ],
   "source": [
    "sns.countplot(x='Occupation',data=df)"
   ]
  },
  {
   "cell_type": "markdown",
   "id": "26d68e58",
   "metadata": {
    "papermill": {
     "duration": 0.023156,
     "end_time": "2024-04-05T04:47:48.013436",
     "exception": false,
     "start_time": "2024-04-05T04:47:47.990280",
     "status": "completed"
    },
    "tags": []
   },
   "source": [
    "* In this plot 0 , 4 & 7 is high count."
   ]
  },
  {
   "cell_type": "code",
   "execution_count": 24,
   "id": "c60a5d7b",
   "metadata": {
    "execution": {
     "iopub.execute_input": "2024-04-05T04:47:48.065402Z",
     "iopub.status.busy": "2024-04-05T04:47:48.064471Z",
     "iopub.status.idle": "2024-04-05T04:47:48.919177Z",
     "shell.execute_reply": "2024-04-05T04:47:48.918035Z"
    },
    "papermill": {
     "duration": 0.884716,
     "end_time": "2024-04-05T04:47:48.921574",
     "exception": false,
     "start_time": "2024-04-05T04:47:48.036858",
     "status": "completed"
    },
    "tags": []
   },
   "outputs": [
    {
     "data": {
      "text/plain": [
       "<Axes: xlabel='City_Category', ylabel='count'>"
      ]
     },
     "execution_count": 24,
     "metadata": {},
     "output_type": "execute_result"
    },
    {
     "data": {
      "image/png": "[encoded data removed]",
      "text/plain": [
       "<Figure size 640x480 with 1 Axes>"
      ]
     },
     "metadata": {},
     "output_type": "display_data"
    }
   ],
   "source": [
    "#City_Category\n",
    "sns.countplot(x='City_Category',data=df,hue='City_Category')"
   ]
  },
  {
   "cell_type": "markdown",
   "id": "a8bbbfea",
   "metadata": {
    "papermill": {
     "duration": 0.015412,
     "end_time": "2024-04-05T04:47:48.952690",
     "exception": false,
     "start_time": "2024-04-05T04:47:48.937278",
     "status": "completed"
    },
    "tags": []
   },
   "source": [
    "* Here city B counted more then city A & B."
   ]
  },
  {
   "cell_type": "code",
   "execution_count": 25,
   "id": "d90e5d1f",
   "metadata": {
    "execution": {
     "iopub.execute_input": "2024-04-05T04:47:48.987014Z",
     "iopub.status.busy": "2024-04-05T04:47:48.985957Z",
     "iopub.status.idle": "2024-04-05T04:47:49.532487Z",
     "shell.execute_reply": "2024-04-05T04:47:49.531364Z"
    },
    "papermill": {
     "duration": 0.566251,
     "end_time": "2024-04-05T04:47:49.534820",
     "exception": false,
     "start_time": "2024-04-05T04:47:48.968569",
     "status": "completed"
    },
    "tags": []
   },
   "outputs": [
    {
     "data": {
      "text/plain": [
       "<Axes: xlabel='City_Year', ylabel='count'>"
      ]
     },
     "execution_count": 25,
     "metadata": {},
     "output_type": "execute_result"
    },
    {
     "data": {
      "image/png": "[encoded data removed]",
      "text/plain": [
       "<Figure size 640x480 with 1 Axes>"
      ]
     },
     "metadata": {},
     "output_type": "display_data"
    }
   ],
   "source": [
    "#City_Year\n",
    "sns.countplot(x='City_Year',data=df)"
   ]
  },
  {
   "cell_type": "markdown",
   "id": "9ad7c970",
   "metadata": {
    "papermill": {
     "duration": 0.016089,
     "end_time": "2024-04-05T04:47:49.566820",
     "exception": false,
     "start_time": "2024-04-05T04:47:49.550731",
     "status": "completed"
    },
    "tags": []
   },
   "source": [
    "* Here these plot counted City_Year-1 is more than another cityes"
   ]
  },
  {
   "cell_type": "code",
   "execution_count": 26,
   "id": "7c21604a",
   "metadata": {
    "execution": {
     "iopub.execute_input": "2024-04-05T04:47:49.602517Z",
     "iopub.status.busy": "2024-04-05T04:47:49.602132Z",
     "iopub.status.idle": "2024-04-05T04:47:49.911604Z",
     "shell.execute_reply": "2024-04-05T04:47:49.910253Z"
    },
    "papermill": {
     "duration": 0.329752,
     "end_time": "2024-04-05T04:47:49.913875",
     "exception": false,
     "start_time": "2024-04-05T04:47:49.584123",
     "status": "completed"
    },
    "tags": []
   },
   "outputs": [
    {
     "data": {
      "text/plain": [
       "<Axes: xlabel='Marital_Status', ylabel='count'>"
      ]
     },
     "execution_count": 26,
     "metadata": {},
     "output_type": "execute_result"
    },
    {
     "data": {
      "image/png": "[encoded data removed]",
      "text/plain": [
       "<Figure size 640x480 with 1 Axes>"
      ]
     },
     "metadata": {},
     "output_type": "display_data"
    }
   ],
   "source": [
    "#Marital_Status\n",
    "sns.countplot(x='Marital_Status',data=df,hue='Marital_Status')"
   ]
  },
  {
   "cell_type": "markdown",
   "id": "86657257",
   "metadata": {
    "papermill": {
     "duration": 0.016028,
     "end_time": "2024-04-05T04:47:49.946163",
     "exception": false,
     "start_time": "2024-04-05T04:47:49.930135",
     "status": "completed"
    },
    "tags": []
   },
   "source": [
    "* Here these plot counting Marital_Status-1 more then Marital_Status-0"
   ]
  },
  {
   "cell_type": "code",
   "execution_count": 27,
   "id": "702a4c48",
   "metadata": {
    "execution": {
     "iopub.execute_input": "2024-04-05T04:47:49.981609Z",
     "iopub.status.busy": "2024-04-05T04:47:49.980460Z",
     "iopub.status.idle": "2024-04-05T04:47:50.370567Z",
     "shell.execute_reply": "2024-04-05T04:47:50.369335Z"
    },
    "papermill": {
     "duration": 0.410277,
     "end_time": "2024-04-05T04:47:50.372822",
     "exception": false,
     "start_time": "2024-04-05T04:47:49.962545",
     "status": "completed"
    },
    "tags": []
   },
   "outputs": [
    {
     "data": {
      "text/plain": [
       "<Axes: xlabel='Product_1', ylabel='count'>"
      ]
     },
     "execution_count": 27,
     "metadata": {},
     "output_type": "execute_result"
    },
    {
     "data": {
      "image/png": "[encoded data removed]",
      "text/plain": [
       "<Figure size 640x480 with 1 Axes>"
      ]
     },
     "metadata": {},
     "output_type": "display_data"
    }
   ],
   "source": [
    "#Product_1\n",
    "sns.countplot(x='Product_1',data=df)"
   ]
  },
  {
   "cell_type": "code",
   "execution_count": 28,
   "id": "a2e82774",
   "metadata": {
    "execution": {
     "iopub.execute_input": "2024-04-05T04:47:50.410397Z",
     "iopub.status.busy": "2024-04-05T04:47:50.409725Z",
     "iopub.status.idle": "2024-04-05T04:47:50.795612Z",
     "shell.execute_reply": "2024-04-05T04:47:50.794742Z"
    },
    "papermill": {
     "duration": 0.408193,
     "end_time": "2024-04-05T04:47:50.798012",
     "exception": false,
     "start_time": "2024-04-05T04:47:50.389819",
     "status": "completed"
    },
    "tags": []
   },
   "outputs": [
    {
     "data": {
      "text/plain": [
       "<Axes: xlabel='Product_2', ylabel='count'>"
      ]
     },
     "execution_count": 28,
     "metadata": {},
     "output_type": "execute_result"
    },
    {
     "data": {
      "image/png": "[encoded data removed]",
      "text/plain": [
       "<Figure size 640x480 with 1 Axes>"
      ]
     },
     "metadata": {},
     "output_type": "display_data"
    }
   ],
   "source": [
    "#Product_2\n",
    "sns.countplot(x='Product_2',data=df)"
   ]
  },
  {
   "cell_type": "code",
   "execution_count": 29,
   "id": "f663b79d",
   "metadata": {
    "execution": {
     "iopub.execute_input": "2024-04-05T04:47:50.835032Z",
     "iopub.status.busy": "2024-04-05T04:47:50.834086Z",
     "iopub.status.idle": "2024-04-05T04:47:51.209908Z",
     "shell.execute_reply": "2024-04-05T04:47:51.208510Z"
    },
    "papermill": {
     "duration": 0.39711,
     "end_time": "2024-04-05T04:47:51.212551",
     "exception": false,
     "start_time": "2024-04-05T04:47:50.815441",
     "status": "completed"
    },
    "tags": []
   },
   "outputs": [
    {
     "data": {
      "text/plain": [
       "<Axes: xlabel='Product_3', ylabel='count'>"
      ]
     },
     "execution_count": 29,
     "metadata": {},
     "output_type": "execute_result"
    },
    {
     "data": {
      "image/png": "[encoded data removed]",
      "text/plain": [
       "<Figure size 640x480 with 1 Axes>"
      ]
     },
     "metadata": {},
     "output_type": "display_data"
    }
   ],
   "source": [
    "#Product_3\n",
    "sns.countplot(x='Product_3',data=df)"
   ]
  },
  {
   "cell_type": "markdown",
   "id": "be8bdc3e",
   "metadata": {
    "papermill": {
     "duration": 0.017764,
     "end_time": "2024-04-05T04:47:51.248486",
     "exception": false,
     "start_time": "2024-04-05T04:47:51.230722",
     "status": "completed"
    },
    "tags": []
   },
   "source": [
    "**Age vs Purchased**"
   ]
  },
  {
   "cell_type": "code",
   "execution_count": 30,
   "id": "89aed20e",
   "metadata": {
    "execution": {
     "iopub.execute_input": "2024-04-05T04:47:51.286676Z",
     "iopub.status.busy": "2024-04-05T04:47:51.286286Z",
     "iopub.status.idle": "2024-04-05T04:47:51.601870Z",
     "shell.execute_reply": "2024-04-05T04:47:51.600972Z"
    },
    "papermill": {
     "duration": 0.337684,
     "end_time": "2024-04-05T04:47:51.604111",
     "exception": false,
     "start_time": "2024-04-05T04:47:51.266427",
     "status": "completed"
    },
    "tags": []
   },
   "outputs": [
    {
     "data": {
      "text/plain": [
       "<Axes: title={'center': 'Age vs Purchased'}, xlabel='Age'>"
      ]
     },
     "execution_count": 30,
     "metadata": {},
     "output_type": "execute_result"
    },
    {
     "data": {
      "image/png": "[encoded data removed]",
      "text/plain": [
       "<Figure size 640x480 with 1 Axes>"
      ]
     },
     "metadata": {},
     "output_type": "display_data"
    }
   ],
   "source": [
    "df.groupby(['Age'])['Purchase'].count().plot(kind='bar',title='Age vs Purchased')"
   ]
  },
  {
   "cell_type": "markdown",
   "id": "74ea12ab",
   "metadata": {
    "papermill": {
     "duration": 0.017903,
     "end_time": "2024-04-05T04:47:51.640103",
     "exception": false,
     "start_time": "2024-04-05T04:47:51.622200",
     "status": "completed"
    },
    "tags": []
   },
   "source": [
    "**Product_1 VS Purchase**"
   ]
  },
  {
   "cell_type": "code",
   "execution_count": 31,
   "id": "181744bf",
   "metadata": {
    "execution": {
     "iopub.execute_input": "2024-04-05T04:47:51.678175Z",
     "iopub.status.busy": "2024-04-05T04:47:51.677728Z",
     "iopub.status.idle": "2024-04-05T04:47:52.062787Z",
     "shell.execute_reply": "2024-04-05T04:47:52.061424Z"
    },
    "papermill": {
     "duration": 0.407249,
     "end_time": "2024-04-05T04:47:52.065401",
     "exception": false,
     "start_time": "2024-04-05T04:47:51.658152",
     "status": "completed"
    },
    "tags": []
   },
   "outputs": [
    {
     "data": {
      "text/plain": [
       "<Axes: title={'center': 'Product_category_1 vs Purchased'}, xlabel='Product_1'>"
      ]
     },
     "execution_count": 31,
     "metadata": {},
     "output_type": "execute_result"
    },
    {
     "data": {
      "image/png": "[encoded data removed]",
      "text/plain": [
       "<Figure size 640x480 with 1 Axes>"
      ]
     },
     "metadata": {},
     "output_type": "display_data"
    }
   ],
   "source": [
    "df.groupby(['Product_1'])['Purchase'].count().plot(kind=\"bar\",title='Product_category_1 vs Purchased')"
   ]
  },
  {
   "cell_type": "markdown",
   "id": "2423ac1b",
   "metadata": {
    "papermill": {
     "duration": 0.018461,
     "end_time": "2024-04-05T04:47:52.102668",
     "exception": false,
     "start_time": "2024-04-05T04:47:52.084207",
     "status": "completed"
    },
    "tags": []
   },
   "source": [
    "**Product_2 VS Purchase**"
   ]
  },
  {
   "cell_type": "code",
   "execution_count": 32,
   "id": "22af4b61",
   "metadata": {
    "execution": {
     "iopub.execute_input": "2024-04-05T04:47:52.143039Z",
     "iopub.status.busy": "2024-04-05T04:47:52.141861Z",
     "iopub.status.idle": "2024-04-05T04:47:52.530021Z",
     "shell.execute_reply": "2024-04-05T04:47:52.528790Z"
    },
    "papermill": {
     "duration": 0.41097,
     "end_time": "2024-04-05T04:47:52.532661",
     "exception": false,
     "start_time": "2024-04-05T04:47:52.121691",
     "status": "completed"
    },
    "tags": []
   },
   "outputs": [
    {
     "data": {
      "text/plain": [
       "<Axes: title={'center': 'Product_2 VS Purchase'}, xlabel='Product_2'>"
      ]
     },
     "execution_count": 32,
     "metadata": {},
     "output_type": "execute_result"
    },
    {
     "data": {
      "image/png": "[encoded data removed]",
      "text/plain": [
       "<Figure size 640x480 with 1 Axes>"
      ]
     },
     "metadata": {},
     "output_type": "display_data"
    }
   ],
   "source": [
    "df.groupby(['Product_2'])['Purchase'].count().plot(kind='bar',title='Product_2 VS Purchase')"
   ]
  },
  {
   "cell_type": "markdown",
   "id": "01b70850",
   "metadata": {
    "papermill": {
     "duration": 0.019054,
     "end_time": "2024-04-05T04:47:52.571380",
     "exception": false,
     "start_time": "2024-04-05T04:47:52.552326",
     "status": "completed"
    },
    "tags": []
   },
   "source": [
    "**Product_3 VS Purchase**"
   ]
  },
  {
   "cell_type": "code",
   "execution_count": 33,
   "id": "efced3a4",
   "metadata": {
    "execution": {
     "iopub.execute_input": "2024-04-05T04:47:52.613286Z",
     "iopub.status.busy": "2024-04-05T04:47:52.612864Z",
     "iopub.status.idle": "2024-04-05T04:47:52.993248Z",
     "shell.execute_reply": "2024-04-05T04:47:52.991882Z"
    },
    "papermill": {
     "duration": 0.403904,
     "end_time": "2024-04-05T04:47:52.995951",
     "exception": false,
     "start_time": "2024-04-05T04:47:52.592047",
     "status": "completed"
    },
    "tags": []
   },
   "outputs": [
    {
     "data": {
      "text/plain": [
       "<Axes: title={'center': 'Product_3 VS Purchase'}, xlabel='Product_3'>"
      ]
     },
     "execution_count": 33,
     "metadata": {},
     "output_type": "execute_result"
    },
    {
     "data": {
      "image/png": "[encoded data removed]",
      "text/plain": [
       "<Figure size 640x480 with 1 Axes>"
      ]
     },
     "metadata": {},
     "output_type": "display_data"
    }
   ],
   "source": [
    "df.groupby(['Product_3'])['Purchase'].count().plot(kind='bar',title='Product_3 VS Purchase')"
   ]
  },
  {
   "cell_type": "markdown",
   "id": "430022ba",
   "metadata": {
    "papermill": {
     "duration": 0.019699,
     "end_time": "2024-04-05T04:47:53.036801",
     "exception": false,
     "start_time": "2024-04-05T04:47:53.017102",
     "status": "completed"
    },
    "tags": []
   },
   "source": [
    "* By looking at Product_3 plot so many customers not purchase any item, few amount of customers bought from this category.\n",
    "*So, plot for all product categories against purchase shows that Product_1 is most popular product category among all categories. Product_Category_2 is averagly popular & Product_3 is not so popular."
   ]
  },
  {
   "cell_type": "markdown",
   "id": "843513cf",
   "metadata": {
    "papermill": {
     "duration": 0.019978,
     "end_time": "2024-04-05T04:47:53.077066",
     "exception": false,
     "start_time": "2024-04-05T04:47:53.057088",
     "status": "completed"
    },
    "tags": []
   },
   "source": [
    "**City category pie chart**"
   ]
  },
  {
   "cell_type": "code",
   "execution_count": 34,
   "id": "9da9c21a",
   "metadata": {
    "execution": {
     "iopub.execute_input": "2024-04-05T04:47:53.119163Z",
     "iopub.status.busy": "2024-04-05T04:47:53.118165Z",
     "iopub.status.idle": "2024-04-05T04:47:53.295089Z",
     "shell.execute_reply": "2024-04-05T04:47:53.293613Z"
    },
    "papermill": {
     "duration": 0.201769,
     "end_time": "2024-04-05T04:47:53.298624",
     "exception": false,
     "start_time": "2024-04-05T04:47:53.096855",
     "status": "completed"
    },
    "tags": []
   },
   "outputs": [
    {
     "data": {
      "text/plain": [
       "<Axes: title={'center': 'City category pie chart'}, ylabel='count'>"
      ]
     },
     "execution_count": 34,
     "metadata": {},
     "output_type": "execute_result"
    },
    {
     "data": {
      "image/png": "[encoded data removed]",
      "text/plain": [
       "<Figure size 640x480 with 1 Axes>"
      ]
     },
     "metadata": {},
     "output_type": "display_data"
    }
   ],
   "source": [
    "df['City_Category'].value_counts().plot(kind='pie',autopct='%1.1f%%',title='City category pie chart')"
   ]
  },
  {
   "cell_type": "markdown",
   "id": "ef375f4d",
   "metadata": {
    "papermill": {
     "duration": 0.03483,
     "end_time": "2024-04-05T04:47:53.370410",
     "exception": false,
     "start_time": "2024-04-05T04:47:53.335580",
     "status": "completed"
    },
    "tags": []
   },
   "source": [
    "* it seems City B has more Customers"
   ]
  },
  {
   "cell_type": "markdown",
   "id": "eb71f106",
   "metadata": {
    "papermill": {
     "duration": 0.020412,
     "end_time": "2024-04-05T04:47:53.412361",
     "exception": false,
     "start_time": "2024-04-05T04:47:53.391949",
     "status": "completed"
    },
    "tags": []
   },
   "source": [
    "**check for more possible plots**"
   ]
  },
  {
   "cell_type": "markdown",
   "id": "a3f995ce",
   "metadata": {
    "papermill": {
     "duration": 0.020505,
     "end_time": "2024-04-05T04:47:53.454652",
     "exception": false,
     "start_time": "2024-04-05T04:47:53.434147",
     "status": "completed"
    },
    "tags": []
   },
   "source": [
    "*Purchase by City_Year*"
   ]
  },
  {
   "cell_type": "code",
   "execution_count": 35,
   "id": "a58e9018",
   "metadata": {
    "execution": {
     "iopub.execute_input": "2024-04-05T04:47:53.498862Z",
     "iopub.status.busy": "2024-04-05T04:47:53.498122Z",
     "iopub.status.idle": "2024-04-05T04:47:53.919470Z",
     "shell.execute_reply": "2024-04-05T04:47:53.918254Z"
    },
    "papermill": {
     "duration": 0.446613,
     "end_time": "2024-04-05T04:47:53.921673",
     "exception": false,
     "start_time": "2024-04-05T04:47:53.475060",
     "status": "completed"
    },
    "tags": []
   },
   "outputs": [
    {
     "data": {
      "text/plain": [
       "<Axes: title={'center': 'Purchase by City_Year'}, xlabel='City_Year'>"
      ]
     },
     "execution_count": 35,
     "metadata": {},
     "output_type": "execute_result"
    },
    {
     "data": {
      "image/png": "[encoded data removed]",
      "text/plain": [
       "<Figure size 640x480 with 1 Axes>"
      ]
     },
     "metadata": {},
     "output_type": "display_data"
    }
   ],
   "source": [
    "df.groupby('City_Year')['Purchase'].count().plot(kind='bar',title='Purchase by City_Year')"
   ]
  },
  {
   "cell_type": "markdown",
   "id": "172ac775",
   "metadata": {
    "papermill": {
     "duration": 0.020587,
     "end_time": "2024-04-05T04:47:53.963438",
     "exception": false,
     "start_time": "2024-04-05T04:47:53.942851",
     "status": "completed"
    },
    "tags": []
   },
   "source": [
    "*Purchase by Age*"
   ]
  },
  {
   "cell_type": "code",
   "execution_count": 36,
   "id": "24085eeb",
   "metadata": {
    "execution": {
     "iopub.execute_input": "2024-04-05T04:47:54.007356Z",
     "iopub.status.busy": "2024-04-05T04:47:54.006919Z",
     "iopub.status.idle": "2024-04-05T04:47:54.307331Z",
     "shell.execute_reply": "2024-04-05T04:47:54.306057Z"
    },
    "papermill": {
     "duration": 0.325341,
     "end_time": "2024-04-05T04:47:54.309731",
     "exception": false,
     "start_time": "2024-04-05T04:47:53.984390",
     "status": "completed"
    },
    "tags": []
   },
   "outputs": [
    {
     "data": {
      "text/plain": [
       "<Axes: title={'center': 'Purchase by Age'}, xlabel='Age'>"
      ]
     },
     "execution_count": 36,
     "metadata": {},
     "output_type": "execute_result"
    },
    {
     "data": {
      "image/png": "[encoded data removed]",
      "text/plain": [
       "<Figure size 640x480 with 1 Axes>"
      ]
     },
     "metadata": {},
     "output_type": "display_data"
    }
   ],
   "source": [
    "df.groupby('Age')['Purchase'].count().plot(kind='bar',title='Purchase by Age')"
   ]
  },
  {
   "cell_type": "code",
   "execution_count": null,
   "id": "cd8739ff",
   "metadata": {
    "papermill": {
     "duration": 0.022904,
     "end_time": "2024-04-05T04:47:54.354414",
     "exception": false,
     "start_time": "2024-04-05T04:47:54.331510",
     "status": "completed"
    },
    "tags": []
   },
   "outputs": [],
   "source": []
  },
  {
   "cell_type": "code",
   "execution_count": null,
   "id": "d69f7b41",
   "metadata": {
    "papermill": {
     "duration": 0.021502,
     "end_time": "2024-04-05T04:47:54.397241",
     "exception": false,
     "start_time": "2024-04-05T04:47:54.375739",
     "status": "completed"
    },
    "tags": []
   },
   "outputs": [],
   "source": []
  },
  {
   "cell_type": "code",
   "execution_count": null,
   "id": "28c4fd9c",
   "metadata": {
    "papermill": {
     "duration": 0.022665,
     "end_time": "2024-04-05T04:47:54.441915",
     "exception": false,
     "start_time": "2024-04-05T04:47:54.419250",
     "status": "completed"
    },
    "tags": []
   },
   "outputs": [],
   "source": []
  }
 ],
 "metadata": {
  "kaggle": {
   "accelerator": "none",
   "dataSources": [
    {
     "datasetId": 2457185,
     "sourceId": 4163061,
     "sourceType": "datasetVersion"
    }
   ],
   "dockerImageVersionId": 30673,
   "isGpuEnabled": false,
   "isInternetEnabled": true,
   "language": "python",
   "sourceType": "notebook"
  },
  "kernelspec": {
   "display_name": "Python 3",
   "language": "python",
   "name": "python3"
  },
  "language_info": {
   "codemirror_mode": {
    "name": "ipython",
    "version": 3
   },
   "file_extension": ".py",
   "mimetype": "text/x-python",
   "name": "python",
   "nbconvert_exporter": "python",
   "pygments_lexer": "ipython3",
   "version": "3.10.13"
  },
  "papermill": {
   "default_parameters": {},
   "duration": 17.929095,
   "end_time": "2024-04-05T04:47:55.185543",
   "environment_variables": {},
   "exception": null,
   "input_path": "__notebook__.ipynb",
   "output_path": "__notebook__.ipynb",
   "parameters": {},
   "start_time": "2024-04-05T04:47:37.256448",
   "version": "2.5.0"
  }
 },
 "nbformat": 4,
 "nbformat_minor": 5
}
